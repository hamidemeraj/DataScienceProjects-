{
 "cells": [
  {
   "cell_type": "code",
   "execution_count": 1,
   "id": "93ba73ca",
   "metadata": {},
   "outputs": [],
   "source": [
    "import pandas as pd \n",
    "import numpy as np \n",
    "import warnings \n",
    "import matplotlib.pyplot as plt \n",
    "warnings.filterwarnings('ignore')\n",
    "from sklearn.cluster import KMeans\n",
    "from sklearn.preprocessing import scale\n",
    "import seaborn as sns "
   ]
  },
  {
   "cell_type": "code",
   "execution_count": 2,
   "id": "79590c6b",
   "metadata": {},
   "outputs": [],
   "source": [
    "df = pd.read_excel(r'C:\\Users\\snapp\\Desktop\\AI\\DF\\Clustring Data.xlsx',sheet_name=0)\n",
    "df.rename(columns={'ID':'ID',\n",
    "                   'Most Ride city':'City',\n",
    "                   'Rides':'Rides',\n",
    "                   'Cancelled Requests By Driver%':'Cancellation',\n",
    "                   'Average Rating':'Rate',\n",
    "                   'Average Fare':'Average Fare',\n",
    "                   'Boarded Day':'Boarded Day',\n",
    "                  }, inplace = True)"
   ]
  },
  {
   "cell_type": "code",
   "execution_count": 3,
   "id": "70d11831",
   "metadata": {},
   "outputs": [
    {
     "data": {
      "text/html": [
       "<div>\n",
       "<style scoped>\n",
       "    .dataframe tbody tr th:only-of-type {\n",
       "        vertical-align: middle;\n",
       "    }\n",
       "\n",
       "    .dataframe tbody tr th {\n",
       "        vertical-align: top;\n",
       "    }\n",
       "\n",
       "    .dataframe thead th {\n",
       "        text-align: right;\n",
       "    }\n",
       "</style>\n",
       "<table border=\"1\" class=\"dataframe\">\n",
       "  <thead>\n",
       "    <tr style=\"text-align: right;\">\n",
       "      <th></th>\n",
       "      <th>ID</th>\n",
       "      <th>City</th>\n",
       "      <th>Rides</th>\n",
       "      <th>Cancellation</th>\n",
       "      <th>Rate</th>\n",
       "      <th>Average Fare</th>\n",
       "      <th>Boarded Day</th>\n",
       "    </tr>\n",
       "  </thead>\n",
       "  <tbody>\n",
       "    <tr>\n",
       "      <th>0</th>\n",
       "      <td>2891556</td>\n",
       "      <td>THR</td>\n",
       "      <td>26</td>\n",
       "      <td>0.363636</td>\n",
       "      <td>4.846154</td>\n",
       "      <td>386923.076923</td>\n",
       "      <td>5</td>\n",
       "    </tr>\n",
       "    <tr>\n",
       "      <th>1</th>\n",
       "      <td>1464813</td>\n",
       "      <td>THR</td>\n",
       "      <td>4</td>\n",
       "      <td>0.100000</td>\n",
       "      <td>5.000000</td>\n",
       "      <td>365000.000000</td>\n",
       "      <td>1</td>\n",
       "    </tr>\n",
       "    <tr>\n",
       "      <th>2</th>\n",
       "      <td>1771104</td>\n",
       "      <td>THR</td>\n",
       "      <td>71</td>\n",
       "      <td>0.012500</td>\n",
       "      <td>4.681818</td>\n",
       "      <td>303591.549296</td>\n",
       "      <td>11</td>\n",
       "    </tr>\n",
       "    <tr>\n",
       "      <th>3</th>\n",
       "      <td>2131619</td>\n",
       "      <td>THR</td>\n",
       "      <td>136</td>\n",
       "      <td>0.125749</td>\n",
       "      <td>4.555556</td>\n",
       "      <td>406985.294118</td>\n",
       "      <td>13</td>\n",
       "    </tr>\n",
       "    <tr>\n",
       "      <th>4</th>\n",
       "      <td>3502098</td>\n",
       "      <td>THR</td>\n",
       "      <td>52</td>\n",
       "      <td>0.033898</td>\n",
       "      <td>4.571429</td>\n",
       "      <td>300480.769231</td>\n",
       "      <td>8</td>\n",
       "    </tr>\n",
       "  </tbody>\n",
       "</table>\n",
       "</div>"
      ],
      "text/plain": [
       "        ID City  Rides  Cancellation      Rate   Average Fare  Boarded Day\n",
       "0  2891556  THR     26      0.363636  4.846154  386923.076923            5\n",
       "1  1464813  THR      4      0.100000  5.000000  365000.000000            1\n",
       "2  1771104  THR     71      0.012500  4.681818  303591.549296           11\n",
       "3  2131619  THR    136      0.125749  4.555556  406985.294118           13\n",
       "4  3502098  THR     52      0.033898  4.571429  300480.769231            8"
      ]
     },
     "execution_count": 3,
     "metadata": {},
     "output_type": "execute_result"
    }
   ],
   "source": [
    "df.head()"
   ]
  },
  {
   "cell_type": "code",
   "execution_count": 4,
   "id": "a7b95b16",
   "metadata": {},
   "outputs": [
    {
     "name": "stdout",
     "output_type": "stream",
     "text": [
      "<class 'pandas.core.frame.DataFrame'>\n",
      "RangeIndex: 264344 entries, 0 to 264343\n",
      "Data columns (total 7 columns):\n",
      " #   Column        Non-Null Count   Dtype  \n",
      "---  ------        --------------   -----  \n",
      " 0   ID            264344 non-null  int64  \n",
      " 1   City          262971 non-null  object \n",
      " 2   Rides         264344 non-null  int64  \n",
      " 3   Cancellation  264344 non-null  float64\n",
      " 4   Rate          264344 non-null  float64\n",
      " 5   Average Fare  264344 non-null  float64\n",
      " 6   Boarded Day   264344 non-null  int64  \n",
      "dtypes: float64(3), int64(3), object(1)\n",
      "memory usage: 14.1+ MB\n"
     ]
    }
   ],
   "source": [
    "df.info()"
   ]
  },
  {
   "cell_type": "code",
   "execution_count": 5,
   "id": "c04d46f8",
   "metadata": {},
   "outputs": [
    {
     "data": {
      "text/html": [
       "<div>\n",
       "<style scoped>\n",
       "    .dataframe tbody tr th:only-of-type {\n",
       "        vertical-align: middle;\n",
       "    }\n",
       "\n",
       "    .dataframe tbody tr th {\n",
       "        vertical-align: top;\n",
       "    }\n",
       "\n",
       "    .dataframe thead th {\n",
       "        text-align: right;\n",
       "    }\n",
       "</style>\n",
       "<table border=\"1\" class=\"dataframe\">\n",
       "  <thead>\n",
       "    <tr style=\"text-align: right;\">\n",
       "      <th></th>\n",
       "      <th>ID</th>\n",
       "      <th>Rides</th>\n",
       "      <th>Cancellation</th>\n",
       "      <th>Rate</th>\n",
       "      <th>Average Fare</th>\n",
       "      <th>Boarded Day</th>\n",
       "    </tr>\n",
       "  </thead>\n",
       "  <tbody>\n",
       "    <tr>\n",
       "      <th>count</th>\n",
       "      <td>2.643440e+05</td>\n",
       "      <td>264344.000000</td>\n",
       "      <td>264344.000000</td>\n",
       "      <td>264344.000000</td>\n",
       "      <td>2.643440e+05</td>\n",
       "      <td>264344.000000</td>\n",
       "    </tr>\n",
       "    <tr>\n",
       "      <th>mean</th>\n",
       "      <td>1.853777e+06</td>\n",
       "      <td>39.170849</td>\n",
       "      <td>0.100795</td>\n",
       "      <td>4.713899</td>\n",
       "      <td>3.884834e+05</td>\n",
       "      <td>6.658869</td>\n",
       "    </tr>\n",
       "    <tr>\n",
       "      <th>std</th>\n",
       "      <td>1.278444e+06</td>\n",
       "      <td>50.012248</td>\n",
       "      <td>0.153597</td>\n",
       "      <td>0.450080</td>\n",
       "      <td>1.817455e+05</td>\n",
       "      <td>4.190381</td>\n",
       "    </tr>\n",
       "    <tr>\n",
       "      <th>min</th>\n",
       "      <td>9.000000e+00</td>\n",
       "      <td>0.000000</td>\n",
       "      <td>0.000000</td>\n",
       "      <td>1.000000</td>\n",
       "      <td>0.000000e+00</td>\n",
       "      <td>0.000000</td>\n",
       "    </tr>\n",
       "    <tr>\n",
       "      <th>25%</th>\n",
       "      <td>5.704655e+05</td>\n",
       "      <td>6.000000</td>\n",
       "      <td>0.000000</td>\n",
       "      <td>4.600000</td>\n",
       "      <td>2.700000e+05</td>\n",
       "      <td>3.000000</td>\n",
       "    </tr>\n",
       "    <tr>\n",
       "      <th>50%</th>\n",
       "      <td>1.900984e+06</td>\n",
       "      <td>20.000000</td>\n",
       "      <td>0.056180</td>\n",
       "      <td>4.833333</td>\n",
       "      <td>3.650000e+05</td>\n",
       "      <td>6.000000</td>\n",
       "    </tr>\n",
       "    <tr>\n",
       "      <th>75%</th>\n",
       "      <td>3.029418e+06</td>\n",
       "      <td>53.000000</td>\n",
       "      <td>0.125000</td>\n",
       "      <td>5.000000</td>\n",
       "      <td>4.774495e+05</td>\n",
       "      <td>10.000000</td>\n",
       "    </tr>\n",
       "    <tr>\n",
       "      <th>max</th>\n",
       "      <td>3.863369e+06</td>\n",
       "      <td>760.000000</td>\n",
       "      <td>1.000000</td>\n",
       "      <td>5.000000</td>\n",
       "      <td>5.255000e+06</td>\n",
       "      <td>14.000000</td>\n",
       "    </tr>\n",
       "  </tbody>\n",
       "</table>\n",
       "</div>"
      ],
      "text/plain": [
       "                 ID          Rides   Cancellation           Rate  \\\n",
       "count  2.643440e+05  264344.000000  264344.000000  264344.000000   \n",
       "mean   1.853777e+06      39.170849       0.100795       4.713899   \n",
       "std    1.278444e+06      50.012248       0.153597       0.450080   \n",
       "min    9.000000e+00       0.000000       0.000000       1.000000   \n",
       "25%    5.704655e+05       6.000000       0.000000       4.600000   \n",
       "50%    1.900984e+06      20.000000       0.056180       4.833333   \n",
       "75%    3.029418e+06      53.000000       0.125000       5.000000   \n",
       "max    3.863369e+06     760.000000       1.000000       5.000000   \n",
       "\n",
       "       Average Fare    Boarded Day  \n",
       "count  2.643440e+05  264344.000000  \n",
       "mean   3.884834e+05       6.658869  \n",
       "std    1.817455e+05       4.190381  \n",
       "min    0.000000e+00       0.000000  \n",
       "25%    2.700000e+05       3.000000  \n",
       "50%    3.650000e+05       6.000000  \n",
       "75%    4.774495e+05      10.000000  \n",
       "max    5.255000e+06      14.000000  "
      ]
     },
     "execution_count": 5,
     "metadata": {},
     "output_type": "execute_result"
    }
   ],
   "source": [
    "df.describe()"
   ]
  },
  {
   "cell_type": "code",
   "execution_count": 6,
   "id": "72b23af8",
   "metadata": {},
   "outputs": [
    {
     "data": {
      "image/png": "[encoded data removed]",
      "text/plain": [
       "<Figure size 432x288 with 1 Axes>"
      ]
     },
     "metadata": {
      "needs_background": "light"
     },
     "output_type": "display_data"
    }
   ],
   "source": [
    "plt.hist(df['Rides'],bins = 40,color='g')\n",
    "plt.ylabel('# of Drivers')\n",
    "plt.xlabel('Bucket of Rides')\n",
    "plt.title('Histogram of Rides')\n",
    "plt.show()"
   ]
  },
  {
   "cell_type": "code",
   "execution_count": 7,
   "id": "641e4793",
   "metadata": {},
   "outputs": [
    {
     "data": {
      "image/png": "[encoded data removed]",
      "text/plain": [
       "<Figure size 432x288 with 1 Axes>"
      ]
     },
     "metadata": {
      "needs_background": "light"
     },
     "output_type": "display_data"
    }
   ],
   "source": [
    "plt.hist(df['Cancellation'],bins = 40,color='b')\n",
    "plt.ylabel('# of Drivers')\n",
    "plt.xlabel('Bucket of Cancellation')\n",
    "plt.title('Histogram of Cancellation Rate')\n",
    "plt.show()"
   ]
  },
  {
   "cell_type": "code",
   "execution_count": 8,
   "id": "37564eaa",
   "metadata": {
    "scrolled": true
   },
   "outputs": [
    {
     "data": {
      "image/png": "[encoded data removed]",
      "text/plain": [
       "<Figure size 432x288 with 1 Axes>"
      ]
     },
     "metadata": {
      "needs_background": "light"
     },
     "output_type": "display_data"
    }
   ],
   "source": [
    "plt.hist(df['Average Fare'],bins = 20,color='y')\n",
    "plt.ylabel('# of Drivers')\n",
    "plt.xlabel('Bucket of Average Fare')\n",
    "plt.title('Histogram of Fare Distribution')\n",
    "plt.show()"
   ]
  },
  {
   "cell_type": "code",
   "execution_count": 9,
   "id": "baf0ecb1",
   "metadata": {},
   "outputs": [],
   "source": [
    "df.drop(['City'],axis = 1,inplace = True)"
   ]
  },
  {
   "cell_type": "code",
   "execution_count": 10,
   "id": "73bc405e",
   "metadata": {},
   "outputs": [],
   "source": [
    "#sns.heatmap(df,linewidth=0.5, annot=True, cmap='RdYlGn_r')"
   ]
  },
  {
   "cell_type": "code",
   "execution_count": 11,
   "id": "396c5a20",
   "metadata": {},
   "outputs": [],
   "source": [
    "model = KMeans(n_clusters = 8)"
   ]
  },
  {
   "cell_type": "code",
   "execution_count": 12,
   "id": "01dbbbc8",
   "metadata": {},
   "outputs": [],
   "source": [
    "Data = df[['Rides','Cancellation','Boarded Day']]\n",
    "model = model.fit(scale(Data))"
   ]
  },
  {
   "cell_type": "code",
   "execution_count": 13,
   "id": "d787d8fa",
   "metadata": {},
   "outputs": [
    {
     "data": {
      "text/plain": [
       "264344"
      ]
     },
     "execution_count": 13,
     "metadata": {},
     "output_type": "execute_result"
    }
   ],
   "source": [
    "len(model.labels_)"
   ]
  },
  {
   "cell_type": "code",
   "execution_count": 14,
   "id": "fff980aa",
   "metadata": {},
   "outputs": [
    {
     "data": {
      "image/png": "[encoded data removed]",
      "text/plain": [
       "<Figure size 576x432 with 1 Axes>"
      ]
     },
     "metadata": {
      "needs_background": "light"
     },
     "output_type": "display_data"
    }
   ],
   "source": [
    "plt.figure(figsize =(8,6))\n",
    "plt.scatter(Data.iloc[:,0],Data.iloc[:,1], c=model.labels_.astype(np.float))\n",
    "plt.show()"
   ]
  },
  {
   "cell_type": "code",
   "execution_count": 15,
   "id": "606d0a2d",
   "metadata": {},
   "outputs": [
    {
     "data": {
      "text/html": [
       "<div>\n",
       "<style scoped>\n",
       "    .dataframe tbody tr th:only-of-type {\n",
       "        vertical-align: middle;\n",
       "    }\n",
       "\n",
       "    .dataframe tbody tr th {\n",
       "        vertical-align: top;\n",
       "    }\n",
       "\n",
       "    .dataframe thead th {\n",
       "        text-align: right;\n",
       "    }\n",
       "</style>\n",
       "<table border=\"1\" class=\"dataframe\">\n",
       "  <thead>\n",
       "    <tr style=\"text-align: right;\">\n",
       "      <th></th>\n",
       "      <th>ID</th>\n",
       "      <th>Rides</th>\n",
       "      <th>Cancellation</th>\n",
       "    </tr>\n",
       "    <tr>\n",
       "      <th>Labels</th>\n",
       "      <th></th>\n",
       "      <th></th>\n",
       "      <th></th>\n",
       "    </tr>\n",
       "  </thead>\n",
       "  <tbody>\n",
       "    <tr>\n",
       "      <th>0</th>\n",
       "      <td>53083</td>\n",
       "      <td>46.396078</td>\n",
       "      <td>0.085783</td>\n",
       "    </tr>\n",
       "    <tr>\n",
       "      <th>1</th>\n",
       "      <td>55562</td>\n",
       "      <td>28.318275</td>\n",
       "      <td>0.058351</td>\n",
       "    </tr>\n",
       "    <tr>\n",
       "      <th>2</th>\n",
       "      <td>12469</td>\n",
       "      <td>4.272195</td>\n",
       "      <td>0.437690</td>\n",
       "    </tr>\n",
       "    <tr>\n",
       "      <th>3</th>\n",
       "      <td>8758</td>\n",
       "      <td>219.506280</td>\n",
       "      <td>0.051537</td>\n",
       "    </tr>\n",
       "    <tr>\n",
       "      <th>4</th>\n",
       "      <td>66130</td>\n",
       "      <td>6.480266</td>\n",
       "      <td>0.010200</td>\n",
       "    </tr>\n",
       "    <tr>\n",
       "      <th>5</th>\n",
       "      <td>3943</td>\n",
       "      <td>0.104235</td>\n",
       "      <td>0.978902</td>\n",
       "    </tr>\n",
       "    <tr>\n",
       "      <th>6</th>\n",
       "      <td>31471</td>\n",
       "      <td>111.970290</td>\n",
       "      <td>0.060928</td>\n",
       "    </tr>\n",
       "    <tr>\n",
       "      <th>7</th>\n",
       "      <td>32928</td>\n",
       "      <td>11.839225</td>\n",
       "      <td>0.197037</td>\n",
       "    </tr>\n",
       "  </tbody>\n",
       "</table>\n",
       "</div>"
      ],
      "text/plain": [
       "           ID       Rides  Cancellation\n",
       "Labels                                 \n",
       "0       53083   46.396078      0.085783\n",
       "1       55562   28.318275      0.058351\n",
       "2       12469    4.272195      0.437690\n",
       "3        8758  219.506280      0.051537\n",
       "4       66130    6.480266      0.010200\n",
       "5        3943    0.104235      0.978902\n",
       "6       31471  111.970290      0.060928\n",
       "7       32928   11.839225      0.197037"
      ]
     },
     "execution_count": 15,
     "metadata": {},
     "output_type": "execute_result"
    }
   ],
   "source": [
    "df['Labels'] = model.labels_\n",
    "df.groupby('Labels').agg({'ID':'count','Rides':'mean','Cancellation':'mean'})"
   ]
  },
  {
   "cell_type": "code",
   "execution_count": 16,
   "id": "a78fd32a",
   "metadata": {},
   "outputs": [
    {
     "data": {
      "text/plain": [
       "<AxesSubplot:>"
      ]
     },
     "execution_count": 16,
     "metadata": {},
     "output_type": "execute_result"
    },
    {
     "data": {
      "image/png": "[encoded data removed]",
      "text/plain": [
       "<Figure size 432x288 with 2 Axes>"
      ]
     },
     "metadata": {
      "needs_background": "light"
     },
     "output_type": "display_data"
    }
   ],
   "source": [
    "import seaborn as sns \n",
    "corr=df.corr()\n",
    "sns.heatmap(corr)"
   ]
  },
  {
   "cell_type": "code",
   "execution_count": null,
   "id": "d99e2460",
   "metadata": {},
   "outputs": [],
   "source": []
  }
 ],
 "metadata": {
  "kernelspec": {
   "display_name": "Python 3 (ipykernel)",
   "language": "python",
   "name": "python3"
  },
  "language_info": {
   "codemirror_mode": {
    "name": "ipython",
    "version": 3
   },
   "file_extension": ".py",
   "mimetype": "text/x-python",
   "name": "python",
   "nbconvert_exporter": "python",
   "pygments_lexer": "ipython3",
   "version": "3.9.7"
  }
 },
 "nbformat": 4,
 "nbformat_minor": 5
}
