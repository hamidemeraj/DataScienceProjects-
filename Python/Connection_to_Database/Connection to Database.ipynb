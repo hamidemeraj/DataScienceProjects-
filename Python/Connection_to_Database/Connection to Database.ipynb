{
 "cells": [
  {
   "cell_type": "markdown",
   "id": "0e77cfa9",
   "metadata": {},
   "source": [
    "Connecting to a clickhouse Database"
   ]
  },
  {
   "cell_type": "code",
   "execution_count": 1,
   "id": "c969d68f",
   "metadata": {},
   "outputs": [],
   "source": [
    "from clickhouse_driver import Client\n",
    "from clickhouse_driver import connect\n",
    "import pandas as pd "
   ]
  },
  {
   "cell_type": "code",
   "execution_count": 3,
   "id": "dc14ed87",
   "metadata": {},
   "outputs": [],
   "source": [
    "# Method 1 \n",
    "client = Client(host=''\n",
    "                , port='9000'\n",
    "                , user='hamide_meraj'\n",
    "                , password='')\n",
    "client.execute(\"\"\"Query\"\"\")"
   ]
  },
  {
   "cell_type": "code",
   "execution_count": 4,
   "id": "ffb705ba",
   "metadata": {},
   "outputs": [],
   "source": [
    "#Method 2 \n",
    "connection = connect(host=''\n",
    "                                , port='9000'\n",
    "                                , user='hamide_meraj'\n",
    "                                , password='')\n",
    "cursor = connection.cursor()\n",
    "cursor.execute(\"\"\" Query \"\"\")\n",
    "record = cursor.fetchall()\n",
    "df = pd.DataFrame(record)"
   ]
  },
  {
   "cell_type": "code",
   "execution_count": 5,
   "id": "86d08859",
   "metadata": {},
   "outputs": [],
   "source": [
    "# Method 3 \n",
    "def read_query(query,cols):\n",
    "    conn = connect(host='', \n",
    "                   user='hamide_meraj', \n",
    "                   password='', \n",
    "                   port=9000)\n",
    "    cursor = conn.cursor()\n",
    "    cursor.execute(query)\n",
    "    result = pd.DataFrame(cursor.fetchall(), columns =cols)\n",
    "    return result\n",
    "\n",
    "read_query(\"\"\" Query \"\"\",[\"ID\",\"Name\",\"Code\",\"Phone\"])"
   ]
  },
  {
   "cell_type": "markdown",
   "id": "ebeae4e4",
   "metadata": {},
   "source": [
    "Connecting to a Postgres database or clickhouse"
   ]
  },
  {
   "cell_type": "code",
   "execution_count": null,
   "id": "f0980f85",
   "metadata": {},
   "outputs": [],
   "source": [
    "import psycopg2\n",
    "import pandas as pd "
   ]
  },
  {
   "cell_type": "code",
   "execution_count": null,
   "id": "6e564dd3",
   "metadata": {},
   "outputs": [],
   "source": [
    "# connceting To Database - postgresql \n",
    "connection = psycopg2.connect(    user=\"\",\n",
    "                                  password=\"\",\n",
    "                                  host=\"\",\n",
    "                                  port=\"\",\n",
    "                                  database=\"\")\n",
    "cursor = connection.cursor()\n",
    "cursor.execute(\"\"\"\n",
    "Query\n",
    "\"\"\")\n",
    "record = cursor.fetchall()\n",
    "\n",
    "df = pd.DataFrame(record,columns=['col_names'])"
   ]
  }
 ],
 "metadata": {
  "kernelspec": {
   "display_name": "Python 3 (ipykernel)",
   "language": "python",
   "name": "python3"
  },
  "language_info": {
   "codemirror_mode": {
    "name": "ipython",
    "version": 3
   },
   "file_extension": ".py",
   "mimetype": "text/x-python",
   "name": "python",
   "nbconvert_exporter": "python",
   "pygments_lexer": "ipython3",
   "version": "3.9.7"
  }
 },
 "nbformat": 4,
 "nbformat_minor": 5
}
